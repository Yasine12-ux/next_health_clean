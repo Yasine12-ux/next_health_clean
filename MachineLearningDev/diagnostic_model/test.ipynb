{
 "cells": [
  {
   "cell_type": "code",
   "execution_count": 1,
   "metadata": {},
   "outputs": [
    {
     "name": "stderr",
     "output_type": "stream",
     "text": [
      "[nltk_data] Downloading package punkt to C:\\Users\\Aziz\n",
      "[nltk_data]     Hlila\\AppData\\Roaming\\nltk_data...\n",
      "[nltk_data]   Package punkt is already up-to-date!\n",
      "[nltk_data] Downloading package stopwords to C:\\Users\\Aziz\n",
      "[nltk_data]     Hlila\\AppData\\Roaming\\nltk_data...\n",
      "[nltk_data]   Package stopwords is already up-to-date!\n"
     ]
    },
    {
     "name": "stdout",
     "output_type": "stream",
     "text": [
      "0          none\n",
      "3          none\n",
      "2    lisinopril\n",
      "1     metformin\n",
      "Name: prescription, dtype: object\n"
     ]
    }
   ],
   "source": [
    "from DiagnosticModel import  DiagnosticModel\n",
    "from SyntheticDataGenerator import SyntheticDataGenerator\n"
   ]
  },
  {
   "cell_type": "code",
   "execution_count": 2,
   "metadata": {},
   "outputs": [],
   "source": [
    "model = DiagnosticModel()\n"
   ]
  },
  {
   "cell_type": "code",
   "execution_count": 3,
   "metadata": {},
   "outputs": [
    {
     "data": {
      "text/html": [
       "<div>\n",
       "<style scoped>\n",
       "    .dataframe tbody tr th:only-of-type {\n",
       "        vertical-align: middle;\n",
       "    }\n",
       "\n",
       "    .dataframe tbody tr th {\n",
       "        vertical-align: top;\n",
       "    }\n",
       "\n",
       "    .dataframe thead th {\n",
       "        text-align: right;\n",
       "    }\n",
       "</style>\n",
       "<table border=\"1\" class=\"dataframe\">\n",
       "  <thead>\n",
       "    <tr style=\"text-align: right;\">\n",
       "      <th></th>\n",
       "    </tr>\n",
       "  </thead>\n",
       "  <tbody>\n",
       "  </tbody>\n",
       "</table>\n",
       "</div>"
      ],
      "text/plain": [
       "Empty DataFrame\n",
       "Columns: []\n",
       "Index: []"
      ]
     },
     "execution_count": 3,
     "metadata": {},
     "output_type": "execute_result"
    }
   ],
   "source": [
    "model.data"
   ]
  },
  {
   "cell_type": "code",
   "execution_count": 4,
   "metadata": {},
   "outputs": [],
   "source": [
    "import pandas as pd\n",
    "import numpy as np\n",
    "initial_data = pd.DataFrame({\n",
    "    'tailleCm': [170, 160, 180, 175, 165],\n",
    "    'poidsKg': [70, 60, 80, 75, 65],\n",
    "    'groupeSanguin': ['A', 'B', 'AB', 'O', 'A'],\n",
    "    'IMC': [24.2, 23.4, 24.7, 24.5, 23.9],\n",
    "    'age': [30, 25, 35, 28, 32],\n",
    "    'sexe': ['M', 'F', 'M', 'F', 'M'],\n",
    "    'cin': [12345, 23456, 34567, 45678, 56789],\n",
    "    'HTA': [1, 0, 0, 1, 1],\n",
    "    'diabete': [0, 1, 0, 0, 1],\n",
    "    'dyslipidemie': [1, 0, 1, 0, 1],\n",
    "    'autresAntecedentsFamiliaux': ['None', 'Heart disease', 'Diabetes', 'None', 'Cancer'],\n",
    "    'nbGrossesse': [0, 2, 0, 3, 0],\n",
    "    'nbEnfantsVivants': [0, 2, 0, 3, 0],\n",
    "    'nbMacrosomies': [0, 0, 0, 0, 0],\n",
    "    'nbAvortements': [0, 1, 0, 2, 0],\n",
    "    'nbMortNes': [0, 0, 0, 1, 0],\n",
    "    'contraceptionUtilisee': ['None', 'Pill', 'None', 'IUD', 'None'],\n",
    "    'ageMenopause': [0, 0, 0, 0, 0],\n",
    "    'autresAntecedentsGynecoObstetriques': ['None', 'PCOS', 'None', 'Endometriosis', 'None'],\n",
    "    'alcoolSemaine': [2, 0, 3, 1, 4],\n",
    "    'tabacStatus': ['Ex-smoker', 'Non-smoker', 'Ex-smoker', 'Non-smoker', 'Current smoker'],\n",
    "    'nbCigaretteParJour': [0, 0, 0, 0, 5],\n",
    "    'drogue': ['None', 'None', 'None', 'None', 'None'],\n",
    "    'autreHabitudeToxique': ['None', 'None', 'None', 'None', 'None'],\n",
    "    'diagnostic': ['Healthy', 'PCOS', 'Healthy', 'Endometriosis', 'Healthy'],\n",
    "    'prescription': ['Vitamin D', 'Metformin', 'Iron supplement', 'NSAIDs', 'Folic acid']\n",
    "})\n",
    "model.fit_initial(initial_data)"
   ]
  },
  {
   "cell_type": "code",
   "execution_count": 8,
   "metadata": {},
   "outputs": [],
   "source": [
    "# second step\n",
    "# # Sample new data for retraining or prediction\n",
    "new_data = pd.DataFrame({\n",
    "    'tailleCm': [168, 162],\n",
    "    'poidsKg': [68, 58],\n",
    "    'groupeSanguin': ['B', 'A'],\n",
    "    'IMC': [23.8, 22.1],\n",
    "    'age': [27, 31],\n",
    "    'sexe': ['F', 'M'],\n",
    "    'cin': [67890, 78901],\n",
    "    'HTA': [0, 1],\n",
    "    'diabete': [0, 1],\n",
    "    'dyslipidemie': [0, 1],\n",
    "    'autresAntecedentsFamiliaux': ['None', 'Heart disease'],\n",
    "    'nbGrossesse': [1, 0],\n",
    "    'nbEnfantsVivants': [1, 0],\n",
    "    'nbMacrosomies': [0, 0],\n",
    "    'nbAvortements': [0, 0],\n",
    "    'nbMortNes': [0, 0],\n",
    "    'contraceptionUtilisee': [True, False],\n",
    "    'ageMenopause': [0, 0],\n",
    "    'autresAntecedentsGynecoObstetriques': ['None', 'None'],\n",
    "    'alcoolSemaine': [1, 0],\n",
    "    'tabacStatus': ['Non-smoker', 'Non-smoker'],\n",
    "    'nbCigaretteParJour': [0, 0],\n",
    "    'drogue': ['None', 'None'],\n",
    "    'autreHabitudeToxique': ['None', 'None'],\n",
    "    'diagnostic': ['PCOS', 'Healthy'],\n",
    "    'prescription': ['Vitamin D', 'Metformin']\n",
    "\n",
    "})\n",
    "model.fit_retrain(new_data)"
   ]
  },
  {
   "cell_type": "code",
   "execution_count": 9,
   "metadata": {},
   "outputs": [
    {
     "name": "stdout",
     "output_type": "stream",
     "text": [
      "0          Vitamin D\n",
      "2    Iron supplement\n",
      "4         Folic acid\n",
      "7          Vitamin D\n",
      "5          Vitamin D\n",
      "1          Metformin\n",
      "5          Vitamin D\n",
      "7          Vitamin D\n",
      "8          Metformin\n",
      "6          Metformin\n",
      "2    Iron supplement\n",
      "0          Vitamin D\n",
      "4         Folic acid\n",
      "7          Vitamin D\n",
      "5          Vitamin D\n",
      "3             NSAIDs\n",
      "0          Vitamin D\n",
      "5          Vitamin D\n",
      "7          Vitamin D\n",
      "1          Metformin\n",
      "4         Folic acid\n",
      "0          Vitamin D\n",
      "2    Iron supplement\n",
      "7          Vitamin D\n",
      "5          Vitamin D\n",
      "Name: prescription, dtype: object\n"
     ]
    }
   ],
   "source": [
    "\n",
    "# Sample new data for prediction\n",
    "new_patient = pd.DataFrame({\n",
    "    'tailleCm': [170, 160, 180, 175, 165],\n",
    "    'poidsKg': [70, 60, 80, 75, 65],\n",
    "    'groupeSanguin': ['A', 'B', 'AB', 'O', 'A'],\n",
    "    'IMC': [24.2, 23.4, 24.7, 24.5, 23.9],\n",
    "    'age': [30, 25, 35, 28, 32],\n",
    "    'sexe': ['M', 'F', 'M', 'F', 'M'],\n",
    "    'cin': [12345, 23456, 34567, 45678, 56789],\n",
    "    'HTA': [1, 0, 0, 1, 1],\n",
    "    'diabete': [0, 1, 0, 0, 1],\n",
    "    'dyslipidemie': [1, 0, 1, 0, 1],\n",
    "    'autresAntecedentsFamiliaux': ['None', 'Heart disease', 'Diabetes', 'None', 'Cancer'],\n",
    "    'nbGrossesse': [0, 2, 0, 3, 0],\n",
    "    'nbEnfantsVivants': [0, 2, 0, 3, 0],\n",
    "    'nbMacrosomies': [0, 0, 0, 0, 0],\n",
    "    'nbAvortements': [0, 1, 0, 2, 0],\n",
    "    'nbMortNes': [0, 0, 0, 1, 0],\n",
    "    'contraceptionUtilisee': ['None', 'Pill', 'None', 'IUD', 'None'],\n",
    "    'ageMenopause': [0, 0, 0, 0, 0],\n",
    "    'autresAntecedentsGynecoObstetriques': ['None', 'PCOS', 'None', 'Endometriosis', 'None'],\n",
    "    'alcoolSemaine': [2, 0, 3, 1, 4],\n",
    "    'tabacStatus': ['Ex-smoker', 'Non-smoker', 'Ex-smoker', 'Non-smoker', 'Current smoker'],\n",
    "    'nbCigaretteParJour': [0, 0, 0, 0, 5],\n",
    "    'drogue': ['None', 'None', 'None', 'None', 'None'],\n",
    "    'autreHabitudeToxique': ['None', 'None', 'None', 'None', 'None'],\n",
    "    'diagnostic': ['Healthy', 'PCOS', 'Healthy', 'Healthy', 'Healthy'],\n",
    "    # 'prescription': ['Vitamin D', 'Metformin', 'Iron supplement', 'NSAIDs', 'Folic acid']\n",
    "})\n",
    "# Predict prescription for new patient\n",
    "predicted_prescriptions = model.predict_prescription(new_patient)\n",
    "print(predicted_prescriptions)\n"
   ]
  }
 ],
 "metadata": {
  "kernelspec": {
   "display_name": ".venv",
   "language": "python",
   "name": "python3"
  },
  "language_info": {
   "codemirror_mode": {
    "name": "ipython",
    "version": 3
   },
   "file_extension": ".py",
   "mimetype": "text/x-python",
   "name": "python",
   "nbconvert_exporter": "python",
   "pygments_lexer": "ipython3",
   "version": "3.10.11"
  }
 },
 "nbformat": 4,
 "nbformat_minor": 2
}
