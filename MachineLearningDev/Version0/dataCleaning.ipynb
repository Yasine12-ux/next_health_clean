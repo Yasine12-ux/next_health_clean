{
 "cells": [
  {
   "cell_type": "markdown",
   "metadata": {},
   "source": [
    "# Data Clean"
   ]
  },
  {
   "cell_type": "code",
   "execution_count": 1,
   "metadata": {},
   "outputs": [
    {
     "name": "stdout",
     "output_type": "stream",
     "text": [
      "{\"tailleCm\":180,\"poidsKg\":75,\"groupeSanguin\":\"O+\",\"IMC\":\"23.1\",\"lieuNaissance\":\"Paris\",\"adresse\":\"123 Rue\",\"HTA\":\"non\",\"diabete\":\"non\",\"dyslipidemie\":\"oui\",\"autresAntecedentsFamiliaux\":null,\"nbGrossesse\":null,\"nbEnfantsVivants\":null,\"nbMacrosomies\":null,\"nbAvortements\":null,\"nbMortNes\":null,\"contraceptionUtilisee\":null,\"ageMenopause\":null,\"autresAntecedentsGynecoObstetriques\":null,\"alcoolSemaine\":0,\"tabacStatus\":\"non\",\"nbCigaretteParJour\":null,\"exFumerDate\":null,\"drogue\":\"non\",\"autreHabitudeToxique\":\"non\"}\n"
     ]
    }
   ],
   "source": [
    "### one example\n",
    "# load data\n",
    "import numpy as np\n",
    "import pandas as pd\n",
    "\n",
    "import json\n",
    "data = pd.read_csv(\"chatDataWithContext.csv\")\n",
    "json_str = data[\"context\"][0]\n",
    "\n",
    "# Split the string and clean each part\n",
    "parts = json_str.replace(\"{\", \"\").replace(\"}\", \"\").split(\",\")\n",
    "cleaned_parts = []\n",
    "for part in parts:\n",
    "    key, val = part.split(\":\")\n",
    "    key=key.replace(\" \",\"\")\n",
    "    val=val.strip()\n",
    "    # Check if the value is numeric or \"null\"\n",
    "    if not (val.isnumeric() or val == \"null\"):\n",
    "        cleaned_parts.append(f'\"{key}\":\"{val}\"')\n",
    "    else:\n",
    "        cleaned_parts.append(f'\"{key}\":{val}')\n",
    "\n",
    "# Construct the cleaned JSON string\n",
    "cleaned_json_str = \"{\" + \",\".join(cleaned_parts) + \"}\"\n",
    "\n",
    "print(cleaned_json_str)\n",
    "# Parse the cleaned JSON string\n",
    "parsed_json = json.loads(cleaned_json_str)\n"
   ]
  },
  {
   "cell_type": "code",
   "execution_count": 2,
   "metadata": {},
   "outputs": [],
   "source": [
    "def cleanRow(json_str):\n",
    "    # Split the string and clean each part\n",
    "    parts = json_str.replace(\"{\", \"\").replace(\"}\", \"\").replace(\", \",\",\").split(\",\")\n",
    "    cleaned_parts = []\n",
    "    for part in parts:\n",
    "        key, val = part.split(\":\")\n",
    "        valtest=val.strip()\n",
    "        # Check if the value is numeric or \"null\"\n",
    "        if valtest == \"aucun\" :valtest =\"null\"\n",
    "        if (valtest.isnumeric() or valtest == \"null\"):\n",
    "            cleaned_parts.append(f'\"{key}\":{valtest}')\n",
    "        else:\n",
    "            cleaned_parts.append(f'\"{key}\":\"{valtest}\"')\n",
    "\n",
    "    # Construct the cleaned JSON string\n",
    "    cleaned_json_str = \"{\" + \",\".join(cleaned_parts) + \"}\"\n",
    "\n",
    "    # Parse the cleaned JSON string\n",
    "    return json.loads(cleaned_json_str)"
   ]
  },
  {
   "cell_type": "code",
   "execution_count": 3,
   "metadata": {},
   "outputs": [],
   "source": [
    "# apply clean \n",
    "df_info = pd.DataFrame.from_dict(data[\"context\"].map(cleanRow).tolist())\n",
    "df_full=pd.DataFrame.join(df_info,data.drop(\"context\",axis=1),)\n",
    "# df_full=df_full.drop_duplicates()"
   ]
  },
  {
   "cell_type": "code",
   "execution_count": 4,
   "metadata": {},
   "outputs": [],
   "source": [
    "df_full=df_full.drop(\"lieuNaissance\",axis=1)"
   ]
  },
  {
   "cell_type": "code",
   "execution_count": null,
   "metadata": {},
   "outputs": [],
   "source": []
  },
  {
   "cell_type": "code",
   "execution_count": 5,
   "metadata": {},
   "outputs": [
    {
     "data": {
      "text/plain": [
       "Index(['tailleCm', 'poidsKg', 'groupeSanguin', 'IMC', 'adresse', 'HTA',\n",
       "       'diabete', 'dyslipidemie', 'autresAntecedentsFamiliaux', 'nbGrossesse',\n",
       "       'nbEnfantsVivants', 'nbMacrosomies', 'nbAvortements', 'nbMortNes',\n",
       "       'contraceptionUtilisee', 'ageMenopause',\n",
       "       'autresAntecedentsGynecoObstetriques', 'alcoolSemaine', 'tabacStatus',\n",
       "       'nbCigaretteParJour', 'exFumerDate', 'drogue', 'autreHabitudeToxique',\n",
       "       'Age', 'sexe', 'Description', 'Ordonnance'],\n",
       "      dtype='object')"
      ]
     },
     "execution_count": 5,
     "metadata": {},
     "output_type": "execute_result"
    }
   ],
   "source": [
    "df_full.columns"
   ]
  },
  {
   "cell_type": "markdown",
   "metadata": {},
   "source": [
    "## Clean columns"
   ]
  },
  {
   "cell_type": "code",
   "execution_count": 6,
   "metadata": {},
   "outputs": [
    {
     "data": {
      "text/plain": [
       "tailleCm\n",
       "160    38\n",
       "165    34\n",
       "170    31\n",
       "175    28\n",
       "180    26\n",
       "162    25\n",
       "168    21\n",
       "178    19\n",
       "172    16\n",
       "158    12\n",
       "176    12\n",
       "174    11\n",
       "182     9\n",
       "164     7\n",
       "155     6\n",
       "167     4\n",
       "163     3\n",
       "173     3\n",
       "177     3\n",
       "185     3\n",
       "169     2\n",
       "183     2\n",
       "159     2\n",
       "157     1\n",
       "161     1\n",
       "166     1\n",
       "Name: count, dtype: int64"
      ]
     },
     "execution_count": 6,
     "metadata": {},
     "output_type": "execute_result"
    }
   ],
   "source": [
    "## taille\n",
    "df_full[\"tailleCm\"].value_counts()"
   ]
  },
  {
   "cell_type": "code",
   "execution_count": 7,
   "metadata": {},
   "outputs": [
    {
     "data": {
      "text/plain": [
       "poidsKg\n",
       "60    34\n",
       "80    27\n",
       "70    23\n",
       "85    23\n",
       "82    22\n",
       "58    19\n",
       "78    19\n",
       "68    18\n",
       "65    15\n",
       "55    15\n",
       "74    13\n",
       "62    11\n",
       "90     9\n",
       "72     8\n",
       "64     8\n",
       "75     8\n",
       "88     6\n",
       "59     5\n",
       "54     5\n",
       "86     4\n",
       "50     4\n",
       "63     4\n",
       "95     3\n",
       "77     3\n",
       "89     2\n",
       "84     2\n",
       "67     2\n",
       "83     2\n",
       "92     2\n",
       "79     1\n",
       "91     1\n",
       "61     1\n",
       "69     1\n",
       "Name: count, dtype: int64"
      ]
     },
     "execution_count": 7,
     "metadata": {},
     "output_type": "execute_result"
    }
   ],
   "source": [
    "## poids\n",
    "df_full[\"poidsKg\"].value_counts()"
   ]
  },
  {
   "cell_type": "code",
   "execution_count": 8,
   "metadata": {},
   "outputs": [
    {
     "data": {
      "text/plain": [
       "groupeSanguin\n",
       "B+     56\n",
       "O+     53\n",
       "A+     52\n",
       "A-     38\n",
       "O-     36\n",
       "B-     35\n",
       "AB+    30\n",
       "AB-    20\n",
       "Name: count, dtype: int64"
      ]
     },
     "execution_count": 8,
     "metadata": {},
     "output_type": "execute_result"
    }
   ],
   "source": [
    "## groupeSanguin\n",
    "df_full[\"groupeSanguin\"].value_counts()"
   ]
  },
  {
   "cell_type": "code",
   "execution_count": 9,
   "metadata": {},
   "outputs": [
    {
     "data": {
      "text/plain": [
       "IMC\n",
       "26.2    17\n",
       "22.9    15\n",
       "26.8    14\n",
       "21.5    13\n",
       "26.1    13\n",
       "        ..\n",
       "23.9     1\n",
       "25.1     1\n",
       "21.8     1\n",
       "28.4     1\n",
       "21.4     1\n",
       "Name: count, Length: 64, dtype: int64"
      ]
     },
     "execution_count": 9,
     "metadata": {},
     "output_type": "execute_result"
    }
   ],
   "source": [
    "## IMC\n",
    "df_full[\"IMC\"].value_counts()"
   ]
  },
  {
   "cell_type": "code",
   "execution_count": 10,
   "metadata": {},
   "outputs": [
    {
     "data": {
      "text/plain": [
       "HTA\n",
       "non    183\n",
       "oui    137\n",
       "Name: count, dtype: int64"
      ]
     },
     "execution_count": 10,
     "metadata": {},
     "output_type": "execute_result"
    }
   ],
   "source": [
    "## HTA\n",
    "df_full[\"HTA\"].value_counts()"
   ]
  },
  {
   "cell_type": "code",
   "execution_count": 11,
   "metadata": {},
   "outputs": [
    {
     "data": {
      "text/plain": [
       "diabete\n",
       "non    240\n",
       "oui     80\n",
       "Name: count, dtype: int64"
      ]
     },
     "execution_count": 11,
     "metadata": {},
     "output_type": "execute_result"
    }
   ],
   "source": [
    "## diabete\n",
    "df_full[\"diabete\"].value_counts()"
   ]
  },
  {
   "cell_type": "code",
   "execution_count": 12,
   "metadata": {},
   "outputs": [
    {
     "data": {
      "text/plain": [
       "dyslipidemie\n",
       "non    174\n",
       "oui    146\n",
       "Name: count, dtype: int64"
      ]
     },
     "execution_count": 12,
     "metadata": {},
     "output_type": "execute_result"
    }
   ],
   "source": [
    "## dyslipidemie\n",
    "df_full[\"dyslipidemie\"].value_counts()"
   ]
  },
  {
   "cell_type": "code",
   "execution_count": 13,
   "metadata": {},
   "outputs": [
    {
     "name": "stdout",
     "output_type": "stream",
     "text": [
      "autresAntecedentsFamiliaux\n",
      "hypertension            99\n",
      "diabète                 34\n",
      "infarctus               12\n",
      "dyslipidemie            12\n",
      "AVC                      8\n",
      "diabete                  4\n",
      "hypercholestérolémie     2\n",
      "cardiovasculaire         2\n",
      "Name: count, dtype: int64\n"
     ]
    },
    {
     "data": {
      "text/plain": [
       "autresAntecedentsFamiliaux\n",
       "hypertension            99\n",
       "diabète                 34\n",
       "infarctus               12\n",
       "dyslipidemie            12\n",
       "AVC                      8\n",
       "diabete                  4\n",
       "hypercholestérolémie     2\n",
       "cardiovasculaire         2\n",
       "Name: count, dtype: int64"
      ]
     },
     "execution_count": 13,
     "metadata": {},
     "output_type": "execute_result"
    }
   ],
   "source": [
    "## autresAntecedentsFamiliaux\n",
    "print(df_full[\"autresAntecedentsFamiliaux\"].value_counts())\n",
    "df_full[\"autresAntecedentsFamiliaux\"]=df_full[\"autresAntecedentsFamiliaux\"].replace(['null', 'aucun'], np.nan)\n",
    "df_full[\"autresAntecedentsFamiliaux\"].value_counts()"
   ]
  },
  {
   "cell_type": "code",
   "execution_count": 14,
   "metadata": {},
   "outputs": [
    {
     "name": "stdout",
     "output_type": "stream",
     "text": [
      "nbGrossesse\n",
      "NaN    163\n",
      "2.0     51\n",
      "1.0     50\n",
      "3.0     35\n",
      "0.0     19\n",
      "4.0      2\n",
      "Name: count, dtype: int64\n"
     ]
    },
    {
     "data": {
      "text/plain": [
       "nbGrossesse\n",
       "0.0    182\n",
       "2.0     51\n",
       "1.0     50\n",
       "3.0     35\n",
       "4.0      2\n",
       "Name: count, dtype: int64"
      ]
     },
     "execution_count": 14,
     "metadata": {},
     "output_type": "execute_result"
    }
   ],
   "source": [
    "## nbGrossesse\n",
    "print(df_full[\"nbGrossesse\"].value_counts(dropna=False))\n",
    "df_full[\"nbGrossesse\"] = df_full[\"nbGrossesse\"].replace([np.nan],0)\n",
    "df_full[\"nbGrossesse\"].value_counts(dropna=False)\n"
   ]
  },
  {
   "cell_type": "code",
   "execution_count": 15,
   "metadata": {},
   "outputs": [
    {
     "data": {
      "text/plain": [
       "nbEnfantsVivants\n",
       "0.0    182\n",
       "2.0     53\n",
       "1.0     50\n",
       "3.0     35\n",
       "Name: count, dtype: int64"
      ]
     },
     "execution_count": 15,
     "metadata": {},
     "output_type": "execute_result"
    }
   ],
   "source": [
    "## nbEnfantsVivants\n",
    "df_full[\"nbEnfantsVivants\"]=df_full[\"nbEnfantsVivants\"].replace(np.nan,0)\n",
    "df_full[\"nbEnfantsVivants\"].value_counts(dropna=False)"
   ]
  },
  {
   "cell_type": "code",
   "execution_count": 16,
   "metadata": {},
   "outputs": [
    {
     "data": {
      "text/plain": [
       "nbMacrosomies\n",
       "0.0    312\n",
       "1.0      8\n",
       "Name: count, dtype: int64"
      ]
     },
     "execution_count": 16,
     "metadata": {},
     "output_type": "execute_result"
    }
   ],
   "source": [
    "## nbMacrosomies\n",
    "df_full[\"nbMacrosomies\"]=df_full[\"nbMacrosomies\"].replace(np.nan,0)\n",
    "df_full[\"nbMacrosomies\"].value_counts(dropna=False)"
   ]
  },
  {
   "cell_type": "code",
   "execution_count": 17,
   "metadata": {},
   "outputs": [
    {
     "data": {
      "text/plain": [
       "nbAvortements\n",
       "0.0    268\n",
       "1.0     52\n",
       "Name: count, dtype: int64"
      ]
     },
     "execution_count": 17,
     "metadata": {},
     "output_type": "execute_result"
    }
   ],
   "source": [
    "## nbEnfantsVivants\n",
    "df_full[\"nbAvortements\"]=df_full[\"nbAvortements\"].replace(np.nan,0)\n",
    "df_full[\"nbAvortements\"].value_counts(dropna=False)"
   ]
  },
  {
   "cell_type": "code",
   "execution_count": 18,
   "metadata": {},
   "outputs": [
    {
     "data": {
      "text/plain": [
       "nbMortNes\n",
       "0.0    318\n",
       "1.0      2\n",
       "Name: count, dtype: int64"
      ]
     },
     "execution_count": 18,
     "metadata": {},
     "output_type": "execute_result"
    }
   ],
   "source": [
    "## nbMortNes\n",
    "df_full[\"nbMortNes\"]=df_full[\"nbMortNes\"].replace(np.nan,0)\n",
    "df_full[\"nbMortNes\"].value_counts(dropna=False)"
   ]
  },
  {
   "cell_type": "code",
   "execution_count": 19,
   "metadata": {},
   "outputs": [
    {
     "data": {
      "text/plain": [
       "contraceptionUtilisee\n",
       "null           167\n",
       "pilule          67\n",
       "stérilet        28\n",
       "implant         25\n",
       "DIU             23\n",
       "patch            8\n",
       "préservatif      2\n",
       "Name: count, dtype: int64"
      ]
     },
     "execution_count": 19,
     "metadata": {},
     "output_type": "execute_result"
    }
   ],
   "source": [
    "## contraceptionUtilisee\n",
    "df_full[\"contraceptionUtilisee\"]=df_full[\"contraceptionUtilisee\"].replace(np.nan,\"null\")\n",
    "df_full[\"contraceptionUtilisee\"].value_counts(dropna=False)"
   ]
  },
  {
   "cell_type": "code",
   "execution_count": 20,
   "metadata": {},
   "outputs": [
    {
     "data": {
      "text/plain": [
       "ageMenopause\n",
       "0.0     303\n",
       "50.0      6\n",
       "48.0      5\n",
       "51.0      4\n",
       "46.0      2\n",
       "Name: count, dtype: int64"
      ]
     },
     "execution_count": 20,
     "metadata": {},
     "output_type": "execute_result"
    }
   ],
   "source": [
    "## ageMenopause\n",
    "df_full[\"ageMenopause\"]=df_full[\"ageMenopause\"].replace(np.nan,0)\n",
    "df_full[\"ageMenopause\"].value_counts(dropna=False)\n"
   ]
  },
  {
   "cell_type": "code",
   "execution_count": 21,
   "metadata": {},
   "outputs": [
    {
     "data": {
      "text/plain": [
       "autresAntecedentsGynecoObstetriques\n",
       "null                304\n",
       "endométriose          8\n",
       "fibromes              4\n",
       "ménorragies           2\n",
       "fibromes utérins      2\n",
       "Name: count, dtype: int64"
      ]
     },
     "execution_count": 21,
     "metadata": {},
     "output_type": "execute_result"
    }
   ],
   "source": [
    "## autresAntecedentsGynecoObstetriques\n",
    "df_full[\"autresAntecedentsGynecoObstetriques\"]=df_full[\"autresAntecedentsGynecoObstetriques\"].replace(np.nan,\"null\")\n",
    "df_full[\"autresAntecedentsGynecoObstetriques\"].value_counts(dropna=False)"
   ]
  },
  {
   "cell_type": "code",
   "execution_count": 22,
   "metadata": {},
   "outputs": [
    {
     "data": {
      "text/plain": [
       "alcoolSemaine\n",
       "1    94\n",
       "2    76\n",
       "3    62\n",
       "4    51\n",
       "5    25\n",
       "0     6\n",
       "6     4\n",
       "7     2\n",
       "Name: count, dtype: int64"
      ]
     },
     "execution_count": 22,
     "metadata": {},
     "output_type": "execute_result"
    }
   ],
   "source": [
    "## alcoolSemaine\n",
    "df_full[\"alcoolSemaine\"].value_counts(dropna=False)"
   ]
  },
  {
   "cell_type": "code",
   "execution_count": 23,
   "metadata": {},
   "outputs": [
    {
     "data": {
      "text/plain": [
       "tabacStatus\n",
       "non-fumeur    268\n",
       "fumeur         32\n",
       "ex-fumeur      20\n",
       "Name: count, dtype: int64"
      ]
     },
     "execution_count": 23,
     "metadata": {},
     "output_type": "execute_result"
    }
   ],
   "source": [
    "## tabacStatus\n",
    "# df_full[\"tabacStatus\"]=df_full[\"tabacStatus\"].replace(np.nan,\"null\")\n",
    "df_full[\"tabacStatus\"]=df_full[\"tabacStatus\"].replace([\"non\"],\"non-fumeur\")\n",
    "df_full[\"tabacStatus\"]=df_full[\"tabacStatus\"].replace([\"oui\"],\"non-fumeur\")\n",
    "df_full[\"tabacStatus\"].value_counts(dropna=False)\n"
   ]
  },
  {
   "cell_type": "code",
   "execution_count": 24,
   "metadata": {},
   "outputs": [
    {
     "data": {
      "text/plain": [
       "nbCigaretteParJour\n",
       "0.0     206\n",
       "10.0     32\n",
       "15.0     30\n",
       "20.0     25\n",
       "12.0     12\n",
       "5.0      10\n",
       "25.0      3\n",
       "8.0       2\n",
       "Name: count, dtype: int64"
      ]
     },
     "execution_count": 24,
     "metadata": {},
     "output_type": "execute_result"
    }
   ],
   "source": [
    "## nbCigaretteParJour\n",
    "df_full[\"nbCigaretteParJour\"]=df_full[\"nbCigaretteParJour\"].replace(np.nan,0)\n",
    "df_full[\"nbCigaretteParJour\"].value_counts(dropna=False)"
   ]
  },
  {
   "cell_type": "code",
   "execution_count": 25,
   "metadata": {},
   "outputs": [],
   "source": [
    "## exFumerDate\n",
    "df_full=df_full.drop([\"exFumerDate\"],axis=1)"
   ]
  },
  {
   "cell_type": "code",
   "execution_count": 26,
   "metadata": {},
   "outputs": [
    {
     "data": {
      "text/plain": [
       "autreHabitudeToxique\n",
       "non    320\n",
       "Name: count, dtype: int64"
      ]
     },
     "execution_count": 26,
     "metadata": {},
     "output_type": "execute_result"
    }
   ],
   "source": [
    "## autreHabitudeToxique\n",
    "# df_full[\"autreHabitudeToxique\"]=df_full[\"nbCigaretteParJour\"].replace(np.nan,0)\n",
    "df_full[\"autreHabitudeToxique\"].value_counts(dropna=False)\n"
   ]
  },
  {
   "cell_type": "code",
   "execution_count": 27,
   "metadata": {},
   "outputs": [
    {
     "data": {
      "text/plain": [
       "Index(['tailleCm', 'poidsKg', 'groupeSanguin', 'IMC', 'adresse', 'HTA',\n",
       "       'diabete', 'dyslipidemie', 'nbGrossesse', 'nbEnfantsVivants',\n",
       "       'nbMacrosomies', 'nbAvortements', 'nbMortNes', 'ageMenopause',\n",
       "       'alcoolSemaine', 'tabacStatus', 'nbCigaretteParJour', 'drogue', 'Age',\n",
       "       'sexe', 'Description', 'Ordonnance'],\n",
       "      dtype='object')"
      ]
     },
     "execution_count": 27,
     "metadata": {},
     "output_type": "execute_result"
    }
   ],
   "source": [
    "drop = [\"autreHabitudeToxique\",\"autresAntecedentsGynecoObstetriques\",\"autresAntecedentsFamiliaux\",\"contraceptionUtilisee\"]\n",
    "df_full=df_full.drop(drop,axis=1)\n",
    "df_full.columns"
   ]
  },
  {
   "cell_type": "code",
   "execution_count": 28,
   "metadata": {},
   "outputs": [],
   "source": [
    "df_full.to_csv(\"data_cleanOutput.csv\")"
   ]
  }
 ],
 "metadata": {
  "kernelspec": {
   "display_name": ".venv",
   "language": "python",
   "name": "python3"
  },
  "language_info": {
   "codemirror_mode": {
    "name": "ipython",
    "version": 3
   },
   "file_extension": ".py",
   "mimetype": "text/x-python",
   "name": "python",
   "nbconvert_exporter": "python",
   "pygments_lexer": "ipython3",
   "version": "3.10.11"
  }
 },
 "nbformat": 4,
 "nbformat_minor": 2
}
