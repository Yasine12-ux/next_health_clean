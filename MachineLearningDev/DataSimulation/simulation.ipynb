{
 "cells": [
  {
   "cell_type": "code",
   "execution_count": 2,
   "metadata": {},
   "outputs": [
    {
     "ename": "ModuleNotFoundError",
     "evalue": "No module named 'sdv'",
     "output_type": "error",
     "traceback": [
      "\u001b[1;31m---------------------------------------------------------------------------\u001b[0m",
      "\u001b[1;31mModuleNotFoundError\u001b[0m                       Traceback (most recent call last)",
      "Cell \u001b[1;32mIn[2], line 1\u001b[0m\n\u001b[1;32m----> 1\u001b[0m \u001b[38;5;28;01mfrom\u001b[39;00m \u001b[38;5;21;01msdv\u001b[39;00m\u001b[38;5;21;01m.\u001b[39;00m\u001b[38;5;21;01mtabular\u001b[39;00m \u001b[38;5;28;01mimport\u001b[39;00m CTGAN\n\u001b[0;32m      3\u001b[0m \u001b[38;5;28mprint\u001b[39m(\u001b[38;5;124m\"\u001b[39m\u001b[38;5;124mSDV version:\u001b[39m\u001b[38;5;124m\"\u001b[39m, sdv\u001b[38;5;241m.\u001b[39m__version__)\n\u001b[0;32m      4\u001b[0m \u001b[38;5;28mprint\u001b[39m(\u001b[38;5;124m\"\u001b[39m\u001b[38;5;124mCTGAN successfully imported\u001b[39m\u001b[38;5;124m\"\u001b[39m)\n",
      "\u001b[1;31mModuleNotFoundError\u001b[0m: No module named 'sdv'"
     ]
    }
   ],
   "source": [
    "import pandas as pd\n",
    "from synthia import SYNTHIA\n"
   ]
  },
  {
   "cell_type": "code",
   "execution_count": 1,
   "metadata": {},
   "outputs": [],
   "source": [
    "\n",
    "\n",
    "# Define the numeric and categorical features\n",
    "numeric_features = ['tailleCm', 'poidsKg', 'IMC', 'nbGrossesse', 'nbEnfantsVivants',\n",
    "                    'nbMacrosomies', 'nbAvortements', 'nbMortNes', 'ageMenopause',\n",
    "                    'alcoolSemaine', 'nbCigaretteParJour', 'Age']\n",
    "categorical_features = ['groupeSanguin', 'HTA', 'diabete', 'dyslipidemie', 'tabacStatus',\n",
    "                        'drogue']\n",
    "\n",
    "# Create an example schema for your data\n",
    "schema = {\n",
    "    'tailleCm': ('normal', 170, 10),    # Mean 170 cm, std dev 10 cm\n",
    "    'poidsKg': ('normal', 70, 15),      # Mean 70 kg, std dev 15 kg\n",
    "    'IMC': ('normal', 25, 5),           # Mean BMI 25, std dev 5\n",
    "    'nbGrossesse': ('poisson', 2),      # Poisson distribution, lambda 2\n",
    "    'nbEnfantsVivants': ('poisson', 1), # Poisson distribution, lambda 1\n",
    "    'nbMacrosomies': ('poisson', 0.1),  # Poisson distribution, lambda 0.1\n",
    "    'nbAvortements': ('poisson', 0.1),  # Poisson distribution, lambda 0.1\n",
    "    'nbMortNes': ('poisson', 0.05),     # Poisson distribution, lambda 0.05\n",
    "    'ageMenopause': ('normal', 50, 5),  # Mean age 50, std dev 5\n",
    "    'alcoolSemaine': ('poisson', 2),    # Poisson distribution, lambda 2\n",
    "    'nbCigaretteParJour': ('poisson', 5),  # Poisson distribution, lambda 5\n",
    "    'Age': ('normal', 40, 15),          # Mean age 40, std dev 15\n",
    "    'groupeSanguin': ('categorical', ['A', 'B', 'AB', 'O'], [0.4, 0.1, 0.1, 0.4]),\n",
    "    'HTA': ('categorical', ['Yes', 'No'], [0.2, 0.8]),\n",
    "    'diabete': ('categorical', ['Yes', 'No'], [0.1, 0.9]),\n",
    "    'dyslipidemie': ('categorical', ['Yes', 'No'], [0.15, 0.85]),\n",
    "    'tabacStatus': ('categorical', ['Smoker', 'Non-Smoker'], [0.3, 0.7]),\n",
    "    'drogue': ('categorical', ['Yes', 'No'], [0.05, 0.95])\n",
    "}\n",
    "\n",
    "# Initialize the SYNTHIA model\n",
    "synthia = SYNTHIA()\n",
    "\n",
    "# Generate synthetic data\n",
    "synthetic_data = synthia.generate(1000, schema)  # Generate 1000 rows of data\n",
    "\n",
    "# Convert to a DataFrame for easier handling\n",
    "df_synthetic = pd.DataFrame(synthetic_data, columns=numeric_features + categorical_features)\n",
    "\n",
    "# Display the first few rows of the synthetic data\n",
    "print(df_synthetic.head())\n"
   ]
  }
 ],
 "metadata": {
  "kernelspec": {
   "display_name": ".venv",
   "language": "python",
   "name": "python3"
  },
  "language_info": {
   "codemirror_mode": {
    "name": "ipython",
    "version": 3
   },
   "file_extension": ".py",
   "mimetype": "text/x-python",
   "name": "python",
   "nbconvert_exporter": "python",
   "pygments_lexer": "ipython3",
   "version": "3.10.11"
  }
 },
 "nbformat": 4,
 "nbformat_minor": 2
}
